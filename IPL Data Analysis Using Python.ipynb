{
 "cells": [
  {
   "cell_type": "markdown",
   "metadata": {},
   "source": [
    "# INSERTING MATCHES DATA "
   ]
  },
  {
   "cell_type": "code",
   "execution_count": 1,
   "metadata": {},
   "outputs": [],
   "source": [
    "import pandas as pd\n",
    "import numpy as np\n",
    "import matplotlib as plt"
   ]
  },
  {
   "cell_type": "code",
   "execution_count": 2,
   "metadata": {},
   "outputs": [],
   "source": [
    "data=pd.read_csv('matches.csv')"
   ]
  },
  {
   "cell_type": "code",
   "execution_count": 3,
   "metadata": {},
   "outputs": [
    {
     "name": "stdout",
     "output_type": "stream",
     "text": [
      "<class 'pandas.core.frame.DataFrame'>\n",
      "RangeIndex: 1095 entries, 0 to 1094\n",
      "Data columns (total 20 columns):\n",
      " #   Column           Non-Null Count  Dtype  \n",
      "---  ------           --------------  -----  \n",
      " 0   id               1095 non-null   int64  \n",
      " 1   season           1095 non-null   object \n",
      " 2   city             1044 non-null   object \n",
      " 3   date             1095 non-null   object \n",
      " 4   match_type       1095 non-null   object \n",
      " 5   player_of_match  1090 non-null   object \n",
      " 6   venue            1095 non-null   object \n",
      " 7   team1            1095 non-null   object \n",
      " 8   team2            1095 non-null   object \n",
      " 9   toss_winner      1095 non-null   object \n",
      " 10  toss_decision    1095 non-null   object \n",
      " 11  winner           1090 non-null   object \n",
      " 12  result           1095 non-null   object \n",
      " 13  result_margin    1076 non-null   float64\n",
      " 14  target_runs      1092 non-null   float64\n",
      " 15  target_overs     1092 non-null   float64\n",
      " 16  super_over       1095 non-null   object \n",
      " 17  method           21 non-null     object \n",
      " 18  umpire1          1095 non-null   object \n",
      " 19  umpire2          1095 non-null   object \n",
      "dtypes: float64(3), int64(1), object(16)\n",
      "memory usage: 171.2+ KB\n"
     ]
    }
   ],
   "source": [
    "type(data)\n",
    "data.shape\n",
    "data.info()"
   ]
  },
  {
   "cell_type": "code",
   "execution_count": 4,
   "metadata": {},
   "outputs": [
    {
     "data": {
      "text/html": [
       "<div>\n",
       "<style scoped>\n",
       "    .dataframe tbody tr th:only-of-type {\n",
       "        vertical-align: middle;\n",
       "    }\n",
       "\n",
       "    .dataframe tbody tr th {\n",
       "        vertical-align: top;\n",
       "    }\n",
       "\n",
       "    .dataframe thead th {\n",
       "        text-align: right;\n",
       "    }\n",
       "</style>\n",
       "<table border=\"1\" class=\"dataframe\">\n",
       "  <thead>\n",
       "    <tr style=\"text-align: right;\">\n",
       "      <th></th>\n",
       "      <th>id</th>\n",
       "      <th>season</th>\n",
       "      <th>city</th>\n",
       "      <th>date</th>\n",
       "      <th>match_type</th>\n",
       "      <th>player_of_match</th>\n",
       "      <th>venue</th>\n",
       "      <th>team1</th>\n",
       "      <th>team2</th>\n",
       "      <th>toss_winner</th>\n",
       "      <th>toss_decision</th>\n",
       "      <th>winner</th>\n",
       "      <th>result</th>\n",
       "      <th>result_margin</th>\n",
       "      <th>target_runs</th>\n",
       "      <th>target_overs</th>\n",
       "      <th>super_over</th>\n",
       "      <th>method</th>\n",
       "      <th>umpire1</th>\n",
       "      <th>umpire2</th>\n",
       "    </tr>\n",
       "  </thead>\n",
       "  <tbody>\n",
       "    <tr>\n",
       "      <th>0</th>\n",
       "      <td>335982</td>\n",
       "      <td>2007/08</td>\n",
       "      <td>Bangalore</td>\n",
       "      <td>2008-04-18</td>\n",
       "      <td>League</td>\n",
       "      <td>BB McCullum</td>\n",
       "      <td>M Chinnaswamy Stadium</td>\n",
       "      <td>Royal Challengers Bangalore</td>\n",
       "      <td>Kolkata Knight Riders</td>\n",
       "      <td>Royal Challengers Bangalore</td>\n",
       "      <td>field</td>\n",
       "      <td>Kolkata Knight Riders</td>\n",
       "      <td>runs</td>\n",
       "      <td>140.0</td>\n",
       "      <td>223.0</td>\n",
       "      <td>20.0</td>\n",
       "      <td>N</td>\n",
       "      <td>NaN</td>\n",
       "      <td>Asad Rauf</td>\n",
       "      <td>RE Koertzen</td>\n",
       "    </tr>\n",
       "    <tr>\n",
       "      <th>1</th>\n",
       "      <td>335983</td>\n",
       "      <td>2007/08</td>\n",
       "      <td>Chandigarh</td>\n",
       "      <td>2008-04-19</td>\n",
       "      <td>League</td>\n",
       "      <td>MEK Hussey</td>\n",
       "      <td>Punjab Cricket Association Stadium, Mohali</td>\n",
       "      <td>Kings XI Punjab</td>\n",
       "      <td>Chennai Super Kings</td>\n",
       "      <td>Chennai Super Kings</td>\n",
       "      <td>bat</td>\n",
       "      <td>Chennai Super Kings</td>\n",
       "      <td>runs</td>\n",
       "      <td>33.0</td>\n",
       "      <td>241.0</td>\n",
       "      <td>20.0</td>\n",
       "      <td>N</td>\n",
       "      <td>NaN</td>\n",
       "      <td>MR Benson</td>\n",
       "      <td>SL Shastri</td>\n",
       "    </tr>\n",
       "    <tr>\n",
       "      <th>2</th>\n",
       "      <td>335984</td>\n",
       "      <td>2007/08</td>\n",
       "      <td>Delhi</td>\n",
       "      <td>2008-04-19</td>\n",
       "      <td>League</td>\n",
       "      <td>MF Maharoof</td>\n",
       "      <td>Feroz Shah Kotla</td>\n",
       "      <td>Delhi Daredevils</td>\n",
       "      <td>Rajasthan Royals</td>\n",
       "      <td>Rajasthan Royals</td>\n",
       "      <td>bat</td>\n",
       "      <td>Delhi Daredevils</td>\n",
       "      <td>wickets</td>\n",
       "      <td>9.0</td>\n",
       "      <td>130.0</td>\n",
       "      <td>20.0</td>\n",
       "      <td>N</td>\n",
       "      <td>NaN</td>\n",
       "      <td>Aleem Dar</td>\n",
       "      <td>GA Pratapkumar</td>\n",
       "    </tr>\n",
       "    <tr>\n",
       "      <th>3</th>\n",
       "      <td>335985</td>\n",
       "      <td>2007/08</td>\n",
       "      <td>Mumbai</td>\n",
       "      <td>2008-04-20</td>\n",
       "      <td>League</td>\n",
       "      <td>MV Boucher</td>\n",
       "      <td>Wankhede Stadium</td>\n",
       "      <td>Mumbai Indians</td>\n",
       "      <td>Royal Challengers Bangalore</td>\n",
       "      <td>Mumbai Indians</td>\n",
       "      <td>bat</td>\n",
       "      <td>Royal Challengers Bangalore</td>\n",
       "      <td>wickets</td>\n",
       "      <td>5.0</td>\n",
       "      <td>166.0</td>\n",
       "      <td>20.0</td>\n",
       "      <td>N</td>\n",
       "      <td>NaN</td>\n",
       "      <td>SJ Davis</td>\n",
       "      <td>DJ Harper</td>\n",
       "    </tr>\n",
       "    <tr>\n",
       "      <th>4</th>\n",
       "      <td>335986</td>\n",
       "      <td>2007/08</td>\n",
       "      <td>Kolkata</td>\n",
       "      <td>2008-04-20</td>\n",
       "      <td>League</td>\n",
       "      <td>DJ Hussey</td>\n",
       "      <td>Eden Gardens</td>\n",
       "      <td>Kolkata Knight Riders</td>\n",
       "      <td>Deccan Chargers</td>\n",
       "      <td>Deccan Chargers</td>\n",
       "      <td>bat</td>\n",
       "      <td>Kolkata Knight Riders</td>\n",
       "      <td>wickets</td>\n",
       "      <td>5.0</td>\n",
       "      <td>111.0</td>\n",
       "      <td>20.0</td>\n",
       "      <td>N</td>\n",
       "      <td>NaN</td>\n",
       "      <td>BF Bowden</td>\n",
       "      <td>K Hariharan</td>\n",
       "    </tr>\n",
       "  </tbody>\n",
       "</table>\n",
       "</div>"
      ],
      "text/plain": [
       "       id   season        city        date match_type player_of_match  \\\n",
       "0  335982  2007/08   Bangalore  2008-04-18     League     BB McCullum   \n",
       "1  335983  2007/08  Chandigarh  2008-04-19     League      MEK Hussey   \n",
       "2  335984  2007/08       Delhi  2008-04-19     League     MF Maharoof   \n",
       "3  335985  2007/08      Mumbai  2008-04-20     League      MV Boucher   \n",
       "4  335986  2007/08     Kolkata  2008-04-20     League       DJ Hussey   \n",
       "\n",
       "                                        venue                        team1  \\\n",
       "0                       M Chinnaswamy Stadium  Royal Challengers Bangalore   \n",
       "1  Punjab Cricket Association Stadium, Mohali              Kings XI Punjab   \n",
       "2                            Feroz Shah Kotla             Delhi Daredevils   \n",
       "3                            Wankhede Stadium               Mumbai Indians   \n",
       "4                                Eden Gardens        Kolkata Knight Riders   \n",
       "\n",
       "                         team2                  toss_winner toss_decision  \\\n",
       "0        Kolkata Knight Riders  Royal Challengers Bangalore         field   \n",
       "1          Chennai Super Kings          Chennai Super Kings           bat   \n",
       "2             Rajasthan Royals             Rajasthan Royals           bat   \n",
       "3  Royal Challengers Bangalore               Mumbai Indians           bat   \n",
       "4              Deccan Chargers              Deccan Chargers           bat   \n",
       "\n",
       "                        winner   result  result_margin  target_runs  \\\n",
       "0        Kolkata Knight Riders     runs          140.0        223.0   \n",
       "1          Chennai Super Kings     runs           33.0        241.0   \n",
       "2             Delhi Daredevils  wickets            9.0        130.0   \n",
       "3  Royal Challengers Bangalore  wickets            5.0        166.0   \n",
       "4        Kolkata Knight Riders  wickets            5.0        111.0   \n",
       "\n",
       "   target_overs super_over method    umpire1         umpire2  \n",
       "0          20.0          N    NaN  Asad Rauf     RE Koertzen  \n",
       "1          20.0          N    NaN  MR Benson      SL Shastri  \n",
       "2          20.0          N    NaN  Aleem Dar  GA Pratapkumar  \n",
       "3          20.0          N    NaN   SJ Davis       DJ Harper  \n",
       "4          20.0          N    NaN  BF Bowden     K Hariharan  "
      ]
     },
     "execution_count": 4,
     "metadata": {},
     "output_type": "execute_result"
    }
   ],
   "source": [
    "data.head()"
   ]
  },
  {
   "cell_type": "code",
   "execution_count": 5,
   "metadata": {},
   "outputs": [
    {
     "data": {
      "text/html": [
       "<div>\n",
       "<style scoped>\n",
       "    .dataframe tbody tr th:only-of-type {\n",
       "        vertical-align: middle;\n",
       "    }\n",
       "\n",
       "    .dataframe tbody tr th {\n",
       "        vertical-align: top;\n",
       "    }\n",
       "\n",
       "    .dataframe thead th {\n",
       "        text-align: right;\n",
       "    }\n",
       "</style>\n",
       "<table border=\"1\" class=\"dataframe\">\n",
       "  <thead>\n",
       "    <tr style=\"text-align: right;\">\n",
       "      <th></th>\n",
       "      <th>id</th>\n",
       "      <th>result_margin</th>\n",
       "      <th>target_runs</th>\n",
       "      <th>target_overs</th>\n",
       "    </tr>\n",
       "  </thead>\n",
       "  <tbody>\n",
       "    <tr>\n",
       "      <th>count</th>\n",
       "      <td>1.095000e+03</td>\n",
       "      <td>1076.000000</td>\n",
       "      <td>1092.000000</td>\n",
       "      <td>1092.000000</td>\n",
       "    </tr>\n",
       "    <tr>\n",
       "      <th>mean</th>\n",
       "      <td>9.048283e+05</td>\n",
       "      <td>17.259294</td>\n",
       "      <td>165.684066</td>\n",
       "      <td>19.759341</td>\n",
       "    </tr>\n",
       "    <tr>\n",
       "      <th>std</th>\n",
       "      <td>3.677402e+05</td>\n",
       "      <td>21.787444</td>\n",
       "      <td>33.427048</td>\n",
       "      <td>1.581108</td>\n",
       "    </tr>\n",
       "    <tr>\n",
       "      <th>min</th>\n",
       "      <td>3.359820e+05</td>\n",
       "      <td>1.000000</td>\n",
       "      <td>43.000000</td>\n",
       "      <td>5.000000</td>\n",
       "    </tr>\n",
       "    <tr>\n",
       "      <th>25%</th>\n",
       "      <td>5.483315e+05</td>\n",
       "      <td>6.000000</td>\n",
       "      <td>146.000000</td>\n",
       "      <td>20.000000</td>\n",
       "    </tr>\n",
       "    <tr>\n",
       "      <th>50%</th>\n",
       "      <td>9.809610e+05</td>\n",
       "      <td>8.000000</td>\n",
       "      <td>166.000000</td>\n",
       "      <td>20.000000</td>\n",
       "    </tr>\n",
       "    <tr>\n",
       "      <th>75%</th>\n",
       "      <td>1.254062e+06</td>\n",
       "      <td>20.000000</td>\n",
       "      <td>187.000000</td>\n",
       "      <td>20.000000</td>\n",
       "    </tr>\n",
       "    <tr>\n",
       "      <th>max</th>\n",
       "      <td>1.426312e+06</td>\n",
       "      <td>146.000000</td>\n",
       "      <td>288.000000</td>\n",
       "      <td>20.000000</td>\n",
       "    </tr>\n",
       "  </tbody>\n",
       "</table>\n",
       "</div>"
      ],
      "text/plain": [
       "                 id  result_margin  target_runs  target_overs\n",
       "count  1.095000e+03    1076.000000  1092.000000   1092.000000\n",
       "mean   9.048283e+05      17.259294   165.684066     19.759341\n",
       "std    3.677402e+05      21.787444    33.427048      1.581108\n",
       "min    3.359820e+05       1.000000    43.000000      5.000000\n",
       "25%    5.483315e+05       6.000000   146.000000     20.000000\n",
       "50%    9.809610e+05       8.000000   166.000000     20.000000\n",
       "75%    1.254062e+06      20.000000   187.000000     20.000000\n",
       "max    1.426312e+06     146.000000   288.000000     20.000000"
      ]
     },
     "execution_count": 5,
     "metadata": {},
     "output_type": "execute_result"
    }
   ],
   "source": [
    "data.describe()"
   ]
  },
  {
   "cell_type": "markdown",
   "metadata": {},
   "source": [
    "Match with the Least Target runs"
   ]
  },
  {
   "cell_type": "code",
   "execution_count": 6,
   "metadata": {},
   "outputs": [
    {
     "data": {
      "text/html": [
       "<div>\n",
       "<style scoped>\n",
       "    .dataframe tbody tr th:only-of-type {\n",
       "        vertical-align: middle;\n",
       "    }\n",
       "\n",
       "    .dataframe tbody tr th {\n",
       "        vertical-align: top;\n",
       "    }\n",
       "\n",
       "    .dataframe thead th {\n",
       "        text-align: right;\n",
       "    }\n",
       "</style>\n",
       "<table border=\"1\" class=\"dataframe\">\n",
       "  <thead>\n",
       "    <tr style=\"text-align: right;\">\n",
       "      <th></th>\n",
       "      <th>id</th>\n",
       "      <th>season</th>\n",
       "      <th>city</th>\n",
       "      <th>date</th>\n",
       "      <th>match_type</th>\n",
       "      <th>player_of_match</th>\n",
       "      <th>venue</th>\n",
       "      <th>team1</th>\n",
       "      <th>team2</th>\n",
       "      <th>toss_winner</th>\n",
       "      <th>toss_decision</th>\n",
       "      <th>winner</th>\n",
       "      <th>result</th>\n",
       "      <th>result_margin</th>\n",
       "      <th>target_runs</th>\n",
       "      <th>target_overs</th>\n",
       "      <th>super_over</th>\n",
       "      <th>method</th>\n",
       "      <th>umpire1</th>\n",
       "      <th>umpire2</th>\n",
       "    </tr>\n",
       "  </thead>\n",
       "  <tbody>\n",
       "    <tr>\n",
       "      <th>429</th>\n",
       "      <td>733993</td>\n",
       "      <td>2014</td>\n",
       "      <td>Delhi</td>\n",
       "      <td>2014-05-10</td>\n",
       "      <td>League</td>\n",
       "      <td>DW Steyn</td>\n",
       "      <td>Feroz Shah Kotla</td>\n",
       "      <td>Delhi Daredevils</td>\n",
       "      <td>Sunrisers Hyderabad</td>\n",
       "      <td>Sunrisers Hyderabad</td>\n",
       "      <td>field</td>\n",
       "      <td>Sunrisers Hyderabad</td>\n",
       "      <td>wickets</td>\n",
       "      <td>8.0</td>\n",
       "      <td>43.0</td>\n",
       "      <td>5.0</td>\n",
       "      <td>N</td>\n",
       "      <td>D/L</td>\n",
       "      <td>RM Deshpande</td>\n",
       "      <td>BNJ Oxenford</td>\n",
       "    </tr>\n",
       "  </tbody>\n",
       "</table>\n",
       "</div>"
      ],
      "text/plain": [
       "         id season   city        date match_type player_of_match  \\\n",
       "429  733993   2014  Delhi  2014-05-10     League        DW Steyn   \n",
       "\n",
       "                venue             team1                team2  \\\n",
       "429  Feroz Shah Kotla  Delhi Daredevils  Sunrisers Hyderabad   \n",
       "\n",
       "             toss_winner toss_decision               winner   result  \\\n",
       "429  Sunrisers Hyderabad         field  Sunrisers Hyderabad  wickets   \n",
       "\n",
       "     result_margin  target_runs  target_overs super_over method       umpire1  \\\n",
       "429            8.0         43.0           5.0          N    D/L  RM Deshpande   \n",
       "\n",
       "          umpire2  \n",
       "429  BNJ Oxenford  "
      ]
     },
     "execution_count": 6,
     "metadata": {},
     "output_type": "execute_result"
    }
   ],
   "source": [
    "data[data['target_runs']==43]"
   ]
  },
  {
   "cell_type": "markdown",
   "metadata": {},
   "source": [
    "Individual Team winning count"
   ]
  },
  {
   "cell_type": "code",
   "execution_count": 7,
   "metadata": {},
   "outputs": [],
   "source": [
    "def wincount(team):\n",
    "    result=data[data['winner']==team].shape[0]\n",
    "    return result"
   ]
  },
  {
   "cell_type": "code",
   "execution_count": 8,
   "metadata": {},
   "outputs": [
    {
     "data": {
      "text/plain": [
       "123"
      ]
     },
     "execution_count": 8,
     "metadata": {},
     "output_type": "execute_result"
    }
   ],
   "source": [
    "RCB_Wins=wincount('Royal Challengers Bangalore') + wincount('Royal Challengers Bengaluru')\n",
    "RCB_Wins"
   ]
  },
  {
   "cell_type": "markdown",
   "metadata": {},
   "source": [
    "Matches Played by Team"
   ]
  },
  {
   "cell_type": "code",
   "execution_count": 9,
   "metadata": {},
   "outputs": [
    {
     "data": {
      "text/plain": [
       "Mumbai Indians                 261\n",
       "Kolkata Knight Riders          251\n",
       "Royal Challengers Bangalore    240\n",
       "Chennai Super Kings            238\n",
       "Rajasthan Royals               221\n",
       "Kings XI Punjab                190\n",
       "Sunrisers Hyderabad            182\n",
       "Delhi Daredevils               161\n",
       "Delhi Capitals                  91\n",
       "Deccan Chargers                 75\n",
       "Punjab Kings                    56\n",
       "Pune Warriors                   46\n",
       "Gujarat Titans                  45\n",
       "Lucknow Super Giants            44\n",
       "Gujarat Lions                   30\n",
       "Rising Pune Supergiant          16\n",
       "Royal Challengers Bengaluru     15\n",
       "Kochi Tuskers Kerala            14\n",
       "Rising Pune Supergiants         14\n",
       "Name: count, dtype: int64"
      ]
     },
     "execution_count": 9,
     "metadata": {},
     "output_type": "execute_result"
    }
   ],
   "source": [
    "match_count=data['team1'].value_counts() + data['team2'].value_counts()\n",
    "match_count=match_count.sort_values(ascending=False)\n",
    "match_count\n"
   ]
  },
  {
   "cell_type": "markdown",
   "metadata": {},
   "source": [
    "Team win count"
   ]
  },
  {
   "cell_type": "code",
   "execution_count": 10,
   "metadata": {},
   "outputs": [
    {
     "data": {
      "text/plain": [
       "winner\n",
       "Mumbai Indians                 144\n",
       "Chennai Super Kings            138\n",
       "Kolkata Knight Riders          131\n",
       "Royal Challengers Bangalore    116\n",
       "Rajasthan Royals               112\n",
       "Sunrisers Hyderabad             88\n",
       "Kings XI Punjab                 88\n",
       "Delhi Daredevils                67\n",
       "Delhi Capitals                  48\n",
       "Deccan Chargers                 29\n",
       "Gujarat Titans                  28\n",
       "Punjab Kings                    24\n",
       "Lucknow Super Giants            24\n",
       "Gujarat Lions                   13\n",
       "Pune Warriors                   12\n",
       "Rising Pune Supergiant          10\n",
       "Royal Challengers Bengaluru      7\n",
       "Kochi Tuskers Kerala             6\n",
       "Rising Pune Supergiants          5\n",
       "Name: count, dtype: int64"
      ]
     },
     "execution_count": 10,
     "metadata": {},
     "output_type": "execute_result"
    }
   ],
   "source": [
    "winning_count = data['winner'].value_counts()\n",
    "winning_count"
   ]
  },
  {
   "cell_type": "code",
   "execution_count": 11,
   "metadata": {},
   "outputs": [
    {
     "data": {
      "text/plain": [
       "255"
      ]
     },
     "execution_count": 11,
     "metadata": {},
     "output_type": "execute_result"
    }
   ],
   "source": [
    "RCB_Plays=match_count['Royal Challengers Bangalore'] + match_count['Royal Challengers Bengaluru']\n",
    "RCB_Plays=int(RCB_Plays)\n",
    "RCB_Plays"
   ]
  },
  {
   "cell_type": "markdown",
   "metadata": {},
   "source": [
    "Most Succesfull Team"
   ]
  },
  {
   "cell_type": "code",
   "execution_count": 12,
   "metadata": {},
   "outputs": [
    {
     "data": {
      "text/plain": [
       "Rising Pune Supergiant         62.50\n",
       "Gujarat Titans                 62.22\n",
       "Chennai Super Kings            57.98\n",
       "Mumbai Indians                 55.17\n",
       "Lucknow Super Giants           54.55\n",
       "Delhi Capitals                 52.75\n",
       "Kolkata Knight Riders          52.19\n",
       "Rajasthan Royals               50.68\n",
       "Sunrisers Hyderabad            48.35\n",
       "Royal Challengers Bangalore    48.33\n",
       "Royal Challengers Bengaluru    46.67\n",
       "Kings XI Punjab                46.32\n",
       "Gujarat Lions                  43.33\n",
       "Punjab Kings                   42.86\n",
       "Kochi Tuskers Kerala           42.86\n",
       "Delhi Daredevils               41.61\n",
       "Deccan Chargers                38.67\n",
       "Rising Pune Supergiants        35.71\n",
       "Pune Warriors                  26.09\n",
       "Name: count, dtype: float64"
      ]
     },
     "execution_count": 12,
     "metadata": {},
     "output_type": "execute_result"
    }
   ],
   "source": [
    "win_perc=winning_count/match_count * 100\n",
    "# For Minimum 30 Matches Played\n",
    "# win_perc=winning_count/match_count[match_count>30] * 100\n",
    "win_perc=win_perc.sort_values(ascending=False).round(2)\n",
    "win_perc"
   ]
  },
  {
   "cell_type": "code",
   "execution_count": 13,
   "metadata": {},
   "outputs": [
    {
     "data": {
      "text/plain": [
       "<Axes: >"
      ]
     },
     "execution_count": 13,
     "metadata": {},
     "output_type": "execute_result"
    },
    {
     "data": {
      "image/png": "[encoded data removed]",
      "text/plain": [
       "<Figure size 640x480 with 1 Axes>"
      ]
     },
     "metadata": {},
     "output_type": "display_data"
    }
   ],
   "source": [
    "win_perc.plot(kind='bar')"
   ]
  },
  {
   "cell_type": "code",
   "execution_count": 14,
   "metadata": {},
   "outputs": [
    {
     "data": {
      "text/plain": [
       "48.24"
      ]
     },
     "execution_count": 14,
     "metadata": {},
     "output_type": "execute_result"
    }
   ],
   "source": [
    "RCB_Wratio=RCB_Wins/RCB_Plays * 100\n",
    "round(RCB_Wratio,2)"
   ]
  },
  {
   "cell_type": "markdown",
   "metadata": {},
   "source": [
    "Toss-winning and its impact on match result"
   ]
  },
  {
   "cell_type": "code",
   "execution_count": 15,
   "metadata": {},
   "outputs": [
    {
     "data": {
      "text/plain": [
       "554"
      ]
     },
     "execution_count": 15,
     "metadata": {},
     "output_type": "execute_result"
    }
   ],
   "source": [
    "TM_WIN=data[data['toss_winner']==data['winner']].shape[0]\n",
    "TM_WIN"
   ]
  },
  {
   "cell_type": "code",
   "execution_count": 16,
   "metadata": {},
   "outputs": [
    {
     "data": {
      "text/plain": [
       "50.59"
      ]
     },
     "execution_count": 16,
     "metadata": {},
     "output_type": "execute_result"
    }
   ],
   "source": [
    "# Percentage of Toss winner winning the Match\n",
    "round(TM_WIN/data.shape[0] * 100,2)"
   ]
  },
  {
   "cell_type": "markdown",
   "metadata": {},
   "source": [
    "Teams match winning probability on winning the toss"
   ]
  },
  {
   "cell_type": "code",
   "execution_count": 17,
   "metadata": {},
   "outputs": [
    {
     "data": {
      "text/plain": [
       "toss_winner\n",
       "Mumbai Indians                 143\n",
       "Kolkata Knight Riders          122\n",
       "Chennai Super Kings            122\n",
       "Rajasthan Royals               120\n",
       "Royal Challengers Bangalore    113\n",
       "Sunrisers Hyderabad             88\n",
       "Kings XI Punjab                 85\n",
       "Delhi Daredevils                80\n",
       "Delhi Capitals                  50\n",
       "Deccan Chargers                 43\n",
       "Punjab Kings                    24\n",
       "Gujarat Titans                  22\n",
       "Pune Warriors                   20\n",
       "Lucknow Super Giants            19\n",
       "Gujarat Lions                   15\n",
       "Kochi Tuskers Kerala             8\n",
       "Royal Challengers Bengaluru      8\n",
       "Rising Pune Supergiants          7\n",
       "Rising Pune Supergiant           6\n",
       "Name: count, dtype: int64"
      ]
     },
     "execution_count": 17,
     "metadata": {},
     "output_type": "execute_result"
    }
   ],
   "source": [
    "#Teams with the Most Toss Wins\n",
    "toss_wins=data['toss_winner'].value_counts()\n",
    "toss_wins"
   ]
  },
  {
   "cell_type": "code",
   "execution_count": 18,
   "metadata": {},
   "outputs": [
    {
     "data": {
      "text/plain": [
       "winner\n",
       "Mumbai Indians                 78\n",
       "Chennai Super Kings            75\n",
       "Kolkata Knight Riders          68\n",
       "Rajasthan Royals               60\n",
       "Royal Challengers Bangalore    57\n",
       "Sunrisers Hyderabad            38\n",
       "Kings XI Punjab                36\n",
       "Delhi Daredevils               35\n",
       "Delhi Capitals                 26\n",
       "Deccan Chargers                19\n",
       "Gujarat Titans                 14\n",
       "Lucknow Super Giants           10\n",
       "Gujarat Lions                  10\n",
       "Punjab Kings                    9\n",
       "Rising Pune Supergiant          5\n",
       "Royal Challengers Bengaluru     4\n",
       "Kochi Tuskers Kerala            4\n",
       "Pune Warriors                   3\n",
       "Rising Pune Supergiants         3\n",
       "Name: count, dtype: int64"
      ]
     },
     "execution_count": 18,
     "metadata": {},
     "output_type": "execute_result"
    }
   ],
   "source": [
    "# Team wins while winning the toss\n",
    "mask1=data['toss_winner']==data['winner']\n",
    "toss_matchwin=data[mask1]['winner'].value_counts()\n",
    "toss_matchwin"
   ]
  },
  {
   "cell_type": "code",
   "execution_count": 19,
   "metadata": {},
   "outputs": [
    {
     "data": {
      "text/plain": [
       "Chennai Super Kings            61.48\n",
       "Deccan Chargers                44.19\n",
       "Delhi Capitals                 52.00\n",
       "Delhi Daredevils               43.75\n",
       "Gujarat Lions                  66.67\n",
       "Gujarat Titans                 63.64\n",
       "Kings XI Punjab                42.35\n",
       "Kochi Tuskers Kerala           50.00\n",
       "Kolkata Knight Riders          55.74\n",
       "Lucknow Super Giants           52.63\n",
       "Mumbai Indians                 54.55\n",
       "Pune Warriors                  15.00\n",
       "Punjab Kings                   37.50\n",
       "Rajasthan Royals               50.00\n",
       "Rising Pune Supergiant         83.33\n",
       "Rising Pune Supergiants        42.86\n",
       "Royal Challengers Bangalore    50.44\n",
       "Royal Challengers Bengaluru    50.00\n",
       "Sunrisers Hyderabad            43.18\n",
       "Name: count, dtype: float64"
      ]
     },
     "execution_count": 19,
     "metadata": {},
     "output_type": "execute_result"
    }
   ],
   "source": [
    "#teams match winning probability on winning the toss\n",
    "round(toss_matchwin/toss_wins * 100,2)"
   ]
  },
  {
   "cell_type": "code",
   "execution_count": 20,
   "metadata": {},
   "outputs": [
    {
     "data": {
      "text/plain": [
       "winner\n",
       "Chennai Super Kings            54.35\n",
       "Deccan Chargers                65.52\n",
       "Delhi Capitals                 54.17\n",
       "Delhi Daredevils               52.24\n",
       "Gujarat Lions                  76.92\n",
       "Gujarat Titans                 50.00\n",
       "Kings XI Punjab                40.91\n",
       "Kochi Tuskers Kerala           66.67\n",
       "Kolkata Knight Riders          51.91\n",
       "Lucknow Super Giants           41.67\n",
       "Mumbai Indians                 54.17\n",
       "Pune Warriors                  25.00\n",
       "Punjab Kings                   37.50\n",
       "Rajasthan Royals               53.57\n",
       "Rising Pune Supergiant         50.00\n",
       "Rising Pune Supergiants        60.00\n",
       "Royal Challengers Bangalore    49.14\n",
       "Royal Challengers Bengaluru    57.14\n",
       "Sunrisers Hyderabad            43.18\n",
       "Name: count, dtype: float64"
      ]
     },
     "execution_count": 20,
     "metadata": {},
     "output_type": "execute_result"
    }
   ],
   "source": [
    "# Perc of toss-match wins in total wins\n",
    "round(toss_matchwin/winning_count * 100,2)"
   ]
  },
  {
   "cell_type": "markdown",
   "metadata": {},
   "source": [
    "Chasing VS Defending"
   ]
  },
  {
   "cell_type": "code",
   "execution_count": 21,
   "metadata": {},
   "outputs": [
    {
     "data": {
      "text/plain": [
       "<Axes: ylabel='count'>"
      ]
     },
     "execution_count": 21,
     "metadata": {},
     "output_type": "execute_result"
    },
    {
     "data": {
      "image/png": "[encoded data removed]",
      "text/plain": [
       "<Figure size 640x480 with 1 Axes>"
      ]
     },
     "metadata": {},
     "output_type": "display_data"
    }
   ],
   "source": [
    "# CHASING VS DEFENDING\n",
    "# WON BY WICKETS IS CHASING \n",
    "data['result'].value_counts().plot(kind='pie')"
   ]
  },
  {
   "cell_type": "markdown",
   "metadata": {},
   "source": [
    "Most Successfull Run chases"
   ]
  },
  {
   "cell_type": "code",
   "execution_count": 22,
   "metadata": {},
   "outputs": [
    {
     "data": {
      "text/plain": [
       "winner\n",
       "Kolkata Knight Riders          76\n",
       "Mumbai Indians                 71\n",
       "Rajasthan Royals               67\n",
       "Chennai Super Kings            67\n",
       "Royal Challengers Bangalore    61\n",
       "Name: count, dtype: int64"
      ]
     },
     "execution_count": 22,
     "metadata": {},
     "output_type": "execute_result"
    }
   ],
   "source": [
    "data[data['result']=='wickets']['winner'].value_counts().sort_values(ascending=False).head()"
   ]
  },
  {
   "cell_type": "code",
   "execution_count": 23,
   "metadata": {},
   "outputs": [
    {
     "data": {
      "text/plain": [
       "winner\n",
       "Mumbai Indians          5\n",
       "Punjab Kings            4\n",
       "Rajasthan Royals        3\n",
       "Lucknow Super Giants    3\n",
       "Kings XI Punjab         3\n",
       "Name: count, dtype: int64"
      ]
     },
     "execution_count": 23,
     "metadata": {},
     "output_type": "execute_result"
    }
   ],
   "source": [
    "# Successfull run chases when target is 200 or more\n",
    "mask2=data['result']=='wickets'\n",
    "mask3=data['target_runs']>=200\n",
    "mask23=mask2 & mask3\n",
    "#data[(mask23)&(data['winner']=='Mumbai Indians')]\n",
    "data[mask23]['winner'].value_counts().sort_values(ascending=False).head()"
   ]
  },
  {
   "cell_type": "code",
   "execution_count": 24,
   "metadata": {},
   "outputs": [
    {
     "data": {
      "text/html": [
       "<div>\n",
       "<style scoped>\n",
       "    .dataframe tbody tr th:only-of-type {\n",
       "        vertical-align: middle;\n",
       "    }\n",
       "\n",
       "    .dataframe tbody tr th {\n",
       "        vertical-align: top;\n",
       "    }\n",
       "\n",
       "    .dataframe thead th {\n",
       "        text-align: right;\n",
       "    }\n",
       "</style>\n",
       "<table border=\"1\" class=\"dataframe\">\n",
       "  <thead>\n",
       "    <tr style=\"text-align: right;\">\n",
       "      <th></th>\n",
       "      <th>team1</th>\n",
       "      <th>team2</th>\n",
       "      <th>target_runs</th>\n",
       "      <th>winner</th>\n",
       "      <th>player_of_match</th>\n",
       "    </tr>\n",
       "  </thead>\n",
       "  <tbody>\n",
       "    <tr>\n",
       "      <th>1065</th>\n",
       "      <td>Kolkata Knight Riders</td>\n",
       "      <td>Punjab Kings</td>\n",
       "      <td>262.0</td>\n",
       "      <td>Punjab Kings</td>\n",
       "      <td>JM Bairstow</td>\n",
       "    </tr>\n",
       "  </tbody>\n",
       "</table>\n",
       "</div>"
      ],
      "text/plain": [
       "                      team1         team2  target_runs        winner  \\\n",
       "1065  Kolkata Knight Riders  Punjab Kings        262.0  Punjab Kings   \n",
       "\n",
       "     player_of_match  \n",
       "1065     JM Bairstow  "
      ]
     },
     "execution_count": 24,
     "metadata": {},
     "output_type": "execute_result"
    }
   ],
   "source": [
    "#Highest successfull runchase\n",
    "mask4=data[mask2]\n",
    "mask4[mask4['target_runs']==max(mask4['target_runs'])][['team1','team2','target_runs','winner','player_of_match']]"
   ]
  },
  {
   "cell_type": "markdown",
   "metadata": {},
   "source": [
    "IPL Winners"
   ]
  },
  {
   "cell_type": "code",
   "execution_count": 25,
   "metadata": {},
   "outputs": [
    {
     "data": {
      "text/html": [
       "<div>\n",
       "<style scoped>\n",
       "    .dataframe tbody tr th:only-of-type {\n",
       "        vertical-align: middle;\n",
       "    }\n",
       "\n",
       "    .dataframe tbody tr th {\n",
       "        vertical-align: top;\n",
       "    }\n",
       "\n",
       "    .dataframe thead th {\n",
       "        text-align: right;\n",
       "    }\n",
       "</style>\n",
       "<table border=\"1\" class=\"dataframe\">\n",
       "  <thead>\n",
       "    <tr style=\"text-align: right;\">\n",
       "      <th></th>\n",
       "      <th>season</th>\n",
       "      <th>winner</th>\n",
       "    </tr>\n",
       "  </thead>\n",
       "  <tbody>\n",
       "    <tr>\n",
       "      <th>57</th>\n",
       "      <td>2007/08</td>\n",
       "      <td>Rajasthan Royals</td>\n",
       "    </tr>\n",
       "    <tr>\n",
       "      <th>114</th>\n",
       "      <td>2009</td>\n",
       "      <td>Deccan Chargers</td>\n",
       "    </tr>\n",
       "    <tr>\n",
       "      <th>174</th>\n",
       "      <td>2009/10</td>\n",
       "      <td>Chennai Super Kings</td>\n",
       "    </tr>\n",
       "    <tr>\n",
       "      <th>247</th>\n",
       "      <td>2011</td>\n",
       "      <td>Chennai Super Kings</td>\n",
       "    </tr>\n",
       "    <tr>\n",
       "      <th>321</th>\n",
       "      <td>2012</td>\n",
       "      <td>Kolkata Knight Riders</td>\n",
       "    </tr>\n",
       "    <tr>\n",
       "      <th>397</th>\n",
       "      <td>2013</td>\n",
       "      <td>Mumbai Indians</td>\n",
       "    </tr>\n",
       "    <tr>\n",
       "      <th>457</th>\n",
       "      <td>2014</td>\n",
       "      <td>Kolkata Knight Riders</td>\n",
       "    </tr>\n",
       "    <tr>\n",
       "      <th>516</th>\n",
       "      <td>2015</td>\n",
       "      <td>Mumbai Indians</td>\n",
       "    </tr>\n",
       "    <tr>\n",
       "      <th>576</th>\n",
       "      <td>2016</td>\n",
       "      <td>Sunrisers Hyderabad</td>\n",
       "    </tr>\n",
       "    <tr>\n",
       "      <th>635</th>\n",
       "      <td>2017</td>\n",
       "      <td>Mumbai Indians</td>\n",
       "    </tr>\n",
       "    <tr>\n",
       "      <th>695</th>\n",
       "      <td>2018</td>\n",
       "      <td>Chennai Super Kings</td>\n",
       "    </tr>\n",
       "    <tr>\n",
       "      <th>755</th>\n",
       "      <td>2019</td>\n",
       "      <td>Mumbai Indians</td>\n",
       "    </tr>\n",
       "    <tr>\n",
       "      <th>815</th>\n",
       "      <td>2020/21</td>\n",
       "      <td>Mumbai Indians</td>\n",
       "    </tr>\n",
       "    <tr>\n",
       "      <th>875</th>\n",
       "      <td>2021</td>\n",
       "      <td>Chennai Super Kings</td>\n",
       "    </tr>\n",
       "    <tr>\n",
       "      <th>949</th>\n",
       "      <td>2022</td>\n",
       "      <td>Gujarat Titans</td>\n",
       "    </tr>\n",
       "    <tr>\n",
       "      <th>1023</th>\n",
       "      <td>2023</td>\n",
       "      <td>Chennai Super Kings</td>\n",
       "    </tr>\n",
       "    <tr>\n",
       "      <th>1094</th>\n",
       "      <td>2024</td>\n",
       "      <td>Kolkata Knight Riders</td>\n",
       "    </tr>\n",
       "  </tbody>\n",
       "</table>\n",
       "</div>"
      ],
      "text/plain": [
       "       season                 winner\n",
       "57    2007/08       Rajasthan Royals\n",
       "114      2009        Deccan Chargers\n",
       "174   2009/10    Chennai Super Kings\n",
       "247      2011    Chennai Super Kings\n",
       "321      2012  Kolkata Knight Riders\n",
       "397      2013         Mumbai Indians\n",
       "457      2014  Kolkata Knight Riders\n",
       "516      2015         Mumbai Indians\n",
       "576      2016    Sunrisers Hyderabad\n",
       "635      2017         Mumbai Indians\n",
       "695      2018    Chennai Super Kings\n",
       "755      2019         Mumbai Indians\n",
       "815   2020/21         Mumbai Indians\n",
       "875      2021    Chennai Super Kings\n",
       "949      2022         Gujarat Titans\n",
       "1023     2023    Chennai Super Kings\n",
       "1094     2024  Kolkata Knight Riders"
      ]
     },
     "execution_count": 25,
     "metadata": {},
     "output_type": "execute_result"
    }
   ],
   "source": [
    "data.drop_duplicates(subset='season',keep='last')[['season','winner']].sort_values('season')"
   ]
  },
  {
   "cell_type": "markdown",
   "metadata": {},
   "source": [
    "Most Finals & Most MOMS"
   ]
  },
  {
   "cell_type": "code",
   "execution_count": 26,
   "metadata": {},
   "outputs": [
    {
     "data": {
      "text/plain": [
       "Chennai Super Kings            10.0\n",
       "Mumbai Indians                  6.0\n",
       "Kolkata Knight Riders           4.0\n",
       "Sunrisers Hyderabad             3.0\n",
       "Royal Challengers Bangalore     3.0\n",
       "Name: count, dtype: float64"
      ]
     },
     "execution_count": 26,
     "metadata": {},
     "output_type": "execute_result"
    }
   ],
   "source": [
    "#most finals\n",
    "#data.drop_duplicates(subset='season',keep='last')\n",
    "finals=data[data['match_type']=='Final']\n",
    "finals=finals['team1'].value_counts()+finals['team2'].value_counts()\n",
    "finals.sort_values(ascending=False).head(5)"
   ]
  },
  {
   "cell_type": "code",
   "execution_count": 27,
   "metadata": {},
   "outputs": [
    {
     "data": {
      "text/plain": [
       "player_of_match\n",
       "AB de Villiers    25\n",
       "CH Gayle          22\n",
       "RG Sharma         19\n",
       "DA Warner         18\n",
       "V Kohli           18\n",
       "MS Dhoni          17\n",
       "RA Jadeja         16\n",
       "SR Watson         16\n",
       "YK Pathan         16\n",
       "AD Russell        15\n",
       "Name: count, dtype: int64"
      ]
     },
     "execution_count": 27,
     "metadata": {},
     "output_type": "execute_result"
    }
   ],
   "source": [
    "#Most MOMS\n",
    "data['player_of_match'].value_counts().sort_values(ascending=False).head(10)"
   ]
  },
  {
   "cell_type": "code",
   "execution_count": 28,
   "metadata": {},
   "outputs": [
    {
     "data": {
      "text/plain": [
       "player_of_match\n",
       "KA Pollard        4\n",
       "DA Warner         3\n",
       "KL Rahul          3\n",
       "RG Sharma         3\n",
       "S Dhawan          3\n",
       "G Gambhir         2\n",
       "AB de Villiers    2\n",
       "SR Tendulkar      2\n",
       "V Sehwag          2\n",
       "AC Gilchrist      2\n",
       "Name: count, dtype: int64"
      ]
     },
     "execution_count": 28,
     "metadata": {},
     "output_type": "execute_result"
    }
   ],
   "source": [
    "#Most MOMS vs Chennai Super Kings\n",
    "\n",
    "F1 = (data['team2'] == 'Chennai Super Kings') & (data['winner'] != 'Chennai Super Kings')\n",
    "F2 = (data['team1'] == 'Chennai Super Kings') & (data['winner'] != 'Chennai Super Kings')\n",
    "F = F1 | F2  # Combine both conditions\n",
    "\n",
    "# Filter the dataset and find the top 10 most frequent \"player_of_match\" against CSK\n",
    "top_moms = data[F]['player_of_match'].value_counts().sort_values(ascending=False).head(10)\n",
    "\n",
    "top_moms\n"
   ]
  },
  {
   "cell_type": "markdown",
   "metadata": {},
   "source": [
    "# INSERTING DELIVERIES DATA"
   ]
  },
  {
   "cell_type": "code",
   "execution_count": 29,
   "metadata": {},
   "outputs": [],
   "source": [
    "data2=pd.read_csv('deliveries.csv')"
   ]
  },
  {
   "cell_type": "code",
   "execution_count": 30,
   "metadata": {},
   "outputs": [
    {
     "name": "stdout",
     "output_type": "stream",
     "text": [
      "<class 'pandas.core.frame.DataFrame'>\n",
      "RangeIndex: 260920 entries, 0 to 260919\n",
      "Data columns (total 17 columns):\n",
      " #   Column            Non-Null Count   Dtype \n",
      "---  ------            --------------   ----- \n",
      " 0   match_id          260920 non-null  int64 \n",
      " 1   inning            260920 non-null  int64 \n",
      " 2   batting_team      260920 non-null  object\n",
      " 3   bowling_team      260920 non-null  object\n",
      " 4   over              260920 non-null  int64 \n",
      " 5   ball              260920 non-null  int64 \n",
      " 6   batter            260920 non-null  object\n",
      " 7   bowler            260920 non-null  object\n",
      " 8   non_striker       260920 non-null  object\n",
      " 9   batsman_runs      260920 non-null  int64 \n",
      " 10  extra_runs        260920 non-null  int64 \n",
      " 11  total_runs        260920 non-null  int64 \n",
      " 12  extras_type       14125 non-null   object\n",
      " 13  is_wicket         260920 non-null  int64 \n",
      " 14  player_dismissed  12950 non-null   object\n",
      " 15  dismissal_kind    12950 non-null   object\n",
      " 16  fielder           9354 non-null    object\n",
      "dtypes: int64(8), object(9)\n",
      "memory usage: 33.8+ MB\n"
     ]
    }
   ],
   "source": [
    "data2.info()"
   ]
  },
  {
   "cell_type": "code",
   "execution_count": 31,
   "metadata": {},
   "outputs": [
    {
     "data": {
      "text/html": [
       "<div>\n",
       "<style scoped>\n",
       "    .dataframe tbody tr th:only-of-type {\n",
       "        vertical-align: middle;\n",
       "    }\n",
       "\n",
       "    .dataframe tbody tr th {\n",
       "        vertical-align: top;\n",
       "    }\n",
       "\n",
       "    .dataframe thead th {\n",
       "        text-align: right;\n",
       "    }\n",
       "</style>\n",
       "<table border=\"1\" class=\"dataframe\">\n",
       "  <thead>\n",
       "    <tr style=\"text-align: right;\">\n",
       "      <th></th>\n",
       "      <th>match_id</th>\n",
       "      <th>inning</th>\n",
       "      <th>batting_team</th>\n",
       "      <th>bowling_team</th>\n",
       "      <th>over</th>\n",
       "      <th>ball</th>\n",
       "      <th>batter</th>\n",
       "      <th>bowler</th>\n",
       "      <th>non_striker</th>\n",
       "      <th>batsman_runs</th>\n",
       "      <th>extra_runs</th>\n",
       "      <th>total_runs</th>\n",
       "      <th>extras_type</th>\n",
       "      <th>is_wicket</th>\n",
       "      <th>player_dismissed</th>\n",
       "      <th>dismissal_kind</th>\n",
       "      <th>fielder</th>\n",
       "    </tr>\n",
       "  </thead>\n",
       "  <tbody>\n",
       "    <tr>\n",
       "      <th>0</th>\n",
       "      <td>335982</td>\n",
       "      <td>1</td>\n",
       "      <td>Kolkata Knight Riders</td>\n",
       "      <td>Royal Challengers Bangalore</td>\n",
       "      <td>0</td>\n",
       "      <td>1</td>\n",
       "      <td>SC Ganguly</td>\n",
       "      <td>P Kumar</td>\n",
       "      <td>BB McCullum</td>\n",
       "      <td>0</td>\n",
       "      <td>1</td>\n",
       "      <td>1</td>\n",
       "      <td>legbyes</td>\n",
       "      <td>0</td>\n",
       "      <td>NaN</td>\n",
       "      <td>NaN</td>\n",
       "      <td>NaN</td>\n",
       "    </tr>\n",
       "    <tr>\n",
       "      <th>1</th>\n",
       "      <td>335982</td>\n",
       "      <td>1</td>\n",
       "      <td>Kolkata Knight Riders</td>\n",
       "      <td>Royal Challengers Bangalore</td>\n",
       "      <td>0</td>\n",
       "      <td>2</td>\n",
       "      <td>BB McCullum</td>\n",
       "      <td>P Kumar</td>\n",
       "      <td>SC Ganguly</td>\n",
       "      <td>0</td>\n",
       "      <td>0</td>\n",
       "      <td>0</td>\n",
       "      <td>NaN</td>\n",
       "      <td>0</td>\n",
       "      <td>NaN</td>\n",
       "      <td>NaN</td>\n",
       "      <td>NaN</td>\n",
       "    </tr>\n",
       "    <tr>\n",
       "      <th>2</th>\n",
       "      <td>335982</td>\n",
       "      <td>1</td>\n",
       "      <td>Kolkata Knight Riders</td>\n",
       "      <td>Royal Challengers Bangalore</td>\n",
       "      <td>0</td>\n",
       "      <td>3</td>\n",
       "      <td>BB McCullum</td>\n",
       "      <td>P Kumar</td>\n",
       "      <td>SC Ganguly</td>\n",
       "      <td>0</td>\n",
       "      <td>1</td>\n",
       "      <td>1</td>\n",
       "      <td>wides</td>\n",
       "      <td>0</td>\n",
       "      <td>NaN</td>\n",
       "      <td>NaN</td>\n",
       "      <td>NaN</td>\n",
       "    </tr>\n",
       "    <tr>\n",
       "      <th>3</th>\n",
       "      <td>335982</td>\n",
       "      <td>1</td>\n",
       "      <td>Kolkata Knight Riders</td>\n",
       "      <td>Royal Challengers Bangalore</td>\n",
       "      <td>0</td>\n",
       "      <td>4</td>\n",
       "      <td>BB McCullum</td>\n",
       "      <td>P Kumar</td>\n",
       "      <td>SC Ganguly</td>\n",
       "      <td>0</td>\n",
       "      <td>0</td>\n",
       "      <td>0</td>\n",
       "      <td>NaN</td>\n",
       "      <td>0</td>\n",
       "      <td>NaN</td>\n",
       "      <td>NaN</td>\n",
       "      <td>NaN</td>\n",
       "    </tr>\n",
       "    <tr>\n",
       "      <th>4</th>\n",
       "      <td>335982</td>\n",
       "      <td>1</td>\n",
       "      <td>Kolkata Knight Riders</td>\n",
       "      <td>Royal Challengers Bangalore</td>\n",
       "      <td>0</td>\n",
       "      <td>5</td>\n",
       "      <td>BB McCullum</td>\n",
       "      <td>P Kumar</td>\n",
       "      <td>SC Ganguly</td>\n",
       "      <td>0</td>\n",
       "      <td>0</td>\n",
       "      <td>0</td>\n",
       "      <td>NaN</td>\n",
       "      <td>0</td>\n",
       "      <td>NaN</td>\n",
       "      <td>NaN</td>\n",
       "      <td>NaN</td>\n",
       "    </tr>\n",
       "    <tr>\n",
       "      <th>...</th>\n",
       "      <td>...</td>\n",
       "      <td>...</td>\n",
       "      <td>...</td>\n",
       "      <td>...</td>\n",
       "      <td>...</td>\n",
       "      <td>...</td>\n",
       "      <td>...</td>\n",
       "      <td>...</td>\n",
       "      <td>...</td>\n",
       "      <td>...</td>\n",
       "      <td>...</td>\n",
       "      <td>...</td>\n",
       "      <td>...</td>\n",
       "      <td>...</td>\n",
       "      <td>...</td>\n",
       "      <td>...</td>\n",
       "      <td>...</td>\n",
       "    </tr>\n",
       "    <tr>\n",
       "      <th>260915</th>\n",
       "      <td>1426312</td>\n",
       "      <td>2</td>\n",
       "      <td>Kolkata Knight Riders</td>\n",
       "      <td>Sunrisers Hyderabad</td>\n",
       "      <td>9</td>\n",
       "      <td>5</td>\n",
       "      <td>SS Iyer</td>\n",
       "      <td>AK Markram</td>\n",
       "      <td>VR Iyer</td>\n",
       "      <td>1</td>\n",
       "      <td>0</td>\n",
       "      <td>1</td>\n",
       "      <td>NaN</td>\n",
       "      <td>0</td>\n",
       "      <td>NaN</td>\n",
       "      <td>NaN</td>\n",
       "      <td>NaN</td>\n",
       "    </tr>\n",
       "    <tr>\n",
       "      <th>260916</th>\n",
       "      <td>1426312</td>\n",
       "      <td>2</td>\n",
       "      <td>Kolkata Knight Riders</td>\n",
       "      <td>Sunrisers Hyderabad</td>\n",
       "      <td>9</td>\n",
       "      <td>6</td>\n",
       "      <td>VR Iyer</td>\n",
       "      <td>AK Markram</td>\n",
       "      <td>SS Iyer</td>\n",
       "      <td>1</td>\n",
       "      <td>0</td>\n",
       "      <td>1</td>\n",
       "      <td>NaN</td>\n",
       "      <td>0</td>\n",
       "      <td>NaN</td>\n",
       "      <td>NaN</td>\n",
       "      <td>NaN</td>\n",
       "    </tr>\n",
       "    <tr>\n",
       "      <th>260917</th>\n",
       "      <td>1426312</td>\n",
       "      <td>2</td>\n",
       "      <td>Kolkata Knight Riders</td>\n",
       "      <td>Sunrisers Hyderabad</td>\n",
       "      <td>10</td>\n",
       "      <td>1</td>\n",
       "      <td>VR Iyer</td>\n",
       "      <td>Shahbaz Ahmed</td>\n",
       "      <td>SS Iyer</td>\n",
       "      <td>1</td>\n",
       "      <td>0</td>\n",
       "      <td>1</td>\n",
       "      <td>NaN</td>\n",
       "      <td>0</td>\n",
       "      <td>NaN</td>\n",
       "      <td>NaN</td>\n",
       "      <td>NaN</td>\n",
       "    </tr>\n",
       "    <tr>\n",
       "      <th>260918</th>\n",
       "      <td>1426312</td>\n",
       "      <td>2</td>\n",
       "      <td>Kolkata Knight Riders</td>\n",
       "      <td>Sunrisers Hyderabad</td>\n",
       "      <td>10</td>\n",
       "      <td>2</td>\n",
       "      <td>SS Iyer</td>\n",
       "      <td>Shahbaz Ahmed</td>\n",
       "      <td>VR Iyer</td>\n",
       "      <td>1</td>\n",
       "      <td>0</td>\n",
       "      <td>1</td>\n",
       "      <td>NaN</td>\n",
       "      <td>0</td>\n",
       "      <td>NaN</td>\n",
       "      <td>NaN</td>\n",
       "      <td>NaN</td>\n",
       "    </tr>\n",
       "    <tr>\n",
       "      <th>260919</th>\n",
       "      <td>1426312</td>\n",
       "      <td>2</td>\n",
       "      <td>Kolkata Knight Riders</td>\n",
       "      <td>Sunrisers Hyderabad</td>\n",
       "      <td>10</td>\n",
       "      <td>3</td>\n",
       "      <td>VR Iyer</td>\n",
       "      <td>Shahbaz Ahmed</td>\n",
       "      <td>SS Iyer</td>\n",
       "      <td>1</td>\n",
       "      <td>0</td>\n",
       "      <td>1</td>\n",
       "      <td>NaN</td>\n",
       "      <td>0</td>\n",
       "      <td>NaN</td>\n",
       "      <td>NaN</td>\n",
       "      <td>NaN</td>\n",
       "    </tr>\n",
       "  </tbody>\n",
       "</table>\n",
       "<p>260920 rows × 17 columns</p>\n",
       "</div>"
      ],
      "text/plain": [
       "        match_id  inning           batting_team                 bowling_team  \\\n",
       "0         335982       1  Kolkata Knight Riders  Royal Challengers Bangalore   \n",
       "1         335982       1  Kolkata Knight Riders  Royal Challengers Bangalore   \n",
       "2         335982       1  Kolkata Knight Riders  Royal Challengers Bangalore   \n",
       "3         335982       1  Kolkata Knight Riders  Royal Challengers Bangalore   \n",
       "4         335982       1  Kolkata Knight Riders  Royal Challengers Bangalore   \n",
       "...          ...     ...                    ...                          ...   \n",
       "260915   1426312       2  Kolkata Knight Riders          Sunrisers Hyderabad   \n",
       "260916   1426312       2  Kolkata Knight Riders          Sunrisers Hyderabad   \n",
       "260917   1426312       2  Kolkata Knight Riders          Sunrisers Hyderabad   \n",
       "260918   1426312       2  Kolkata Knight Riders          Sunrisers Hyderabad   \n",
       "260919   1426312       2  Kolkata Knight Riders          Sunrisers Hyderabad   \n",
       "\n",
       "        over  ball       batter         bowler  non_striker  batsman_runs  \\\n",
       "0          0     1   SC Ganguly        P Kumar  BB McCullum             0   \n",
       "1          0     2  BB McCullum        P Kumar   SC Ganguly             0   \n",
       "2          0     3  BB McCullum        P Kumar   SC Ganguly             0   \n",
       "3          0     4  BB McCullum        P Kumar   SC Ganguly             0   \n",
       "4          0     5  BB McCullum        P Kumar   SC Ganguly             0   \n",
       "...      ...   ...          ...            ...          ...           ...   \n",
       "260915     9     5      SS Iyer     AK Markram      VR Iyer             1   \n",
       "260916     9     6      VR Iyer     AK Markram      SS Iyer             1   \n",
       "260917    10     1      VR Iyer  Shahbaz Ahmed      SS Iyer             1   \n",
       "260918    10     2      SS Iyer  Shahbaz Ahmed      VR Iyer             1   \n",
       "260919    10     3      VR Iyer  Shahbaz Ahmed      SS Iyer             1   \n",
       "\n",
       "        extra_runs  total_runs extras_type  is_wicket player_dismissed  \\\n",
       "0                1           1     legbyes          0              NaN   \n",
       "1                0           0         NaN          0              NaN   \n",
       "2                1           1       wides          0              NaN   \n",
       "3                0           0         NaN          0              NaN   \n",
       "4                0           0         NaN          0              NaN   \n",
       "...            ...         ...         ...        ...              ...   \n",
       "260915           0           1         NaN          0              NaN   \n",
       "260916           0           1         NaN          0              NaN   \n",
       "260917           0           1         NaN          0              NaN   \n",
       "260918           0           1         NaN          0              NaN   \n",
       "260919           0           1         NaN          0              NaN   \n",
       "\n",
       "       dismissal_kind fielder  \n",
       "0                 NaN     NaN  \n",
       "1                 NaN     NaN  \n",
       "2                 NaN     NaN  \n",
       "3                 NaN     NaN  \n",
       "4                 NaN     NaN  \n",
       "...               ...     ...  \n",
       "260915            NaN     NaN  \n",
       "260916            NaN     NaN  \n",
       "260917            NaN     NaN  \n",
       "260918            NaN     NaN  \n",
       "260919            NaN     NaN  \n",
       "\n",
       "[260920 rows x 17 columns]"
      ]
     },
     "execution_count": 31,
     "metadata": {},
     "output_type": "execute_result"
    }
   ],
   "source": [
    "data2"
   ]
  },
  {
   "cell_type": "markdown",
   "metadata": {},
   "source": [
    "Most Individual runs in IPL"
   ]
  },
  {
   "cell_type": "code",
   "execution_count": 32,
   "metadata": {},
   "outputs": [
    {
     "data": {
      "text/html": [
       "<div>\n",
       "<style scoped>\n",
       "    .dataframe tbody tr th:only-of-type {\n",
       "        vertical-align: middle;\n",
       "    }\n",
       "\n",
       "    .dataframe tbody tr th {\n",
       "        vertical-align: top;\n",
       "    }\n",
       "\n",
       "    .dataframe thead th {\n",
       "        text-align: right;\n",
       "    }\n",
       "</style>\n",
       "<table border=\"1\" class=\"dataframe\">\n",
       "  <thead>\n",
       "    <tr style=\"text-align: right;\">\n",
       "      <th></th>\n",
       "      <th>batsman_runs</th>\n",
       "    </tr>\n",
       "    <tr>\n",
       "      <th>batter</th>\n",
       "      <th></th>\n",
       "    </tr>\n",
       "  </thead>\n",
       "  <tbody>\n",
       "    <tr>\n",
       "      <th>V Kohli</th>\n",
       "      <td>8014</td>\n",
       "    </tr>\n",
       "    <tr>\n",
       "      <th>S Dhawan</th>\n",
       "      <td>6769</td>\n",
       "    </tr>\n",
       "    <tr>\n",
       "      <th>RG Sharma</th>\n",
       "      <td>6630</td>\n",
       "    </tr>\n",
       "    <tr>\n",
       "      <th>DA Warner</th>\n",
       "      <td>6567</td>\n",
       "    </tr>\n",
       "    <tr>\n",
       "      <th>SK Raina</th>\n",
       "      <td>5536</td>\n",
       "    </tr>\n",
       "    <tr>\n",
       "      <th>MS Dhoni</th>\n",
       "      <td>5243</td>\n",
       "    </tr>\n",
       "    <tr>\n",
       "      <th>AB de Villiers</th>\n",
       "      <td>5181</td>\n",
       "    </tr>\n",
       "    <tr>\n",
       "      <th>CH Gayle</th>\n",
       "      <td>4997</td>\n",
       "    </tr>\n",
       "    <tr>\n",
       "      <th>RV Uthappa</th>\n",
       "      <td>4954</td>\n",
       "    </tr>\n",
       "    <tr>\n",
       "      <th>KD Karthik</th>\n",
       "      <td>4843</td>\n",
       "    </tr>\n",
       "  </tbody>\n",
       "</table>\n",
       "</div>"
      ],
      "text/plain": [
       "                batsman_runs\n",
       "batter                      \n",
       "V Kohli                 8014\n",
       "S Dhawan                6769\n",
       "RG Sharma               6630\n",
       "DA Warner               6567\n",
       "SK Raina                5536\n",
       "MS Dhoni                5243\n",
       "AB de Villiers          5181\n",
       "CH Gayle                4997\n",
       "RV Uthappa              4954\n",
       "KD Karthik              4843"
      ]
     },
     "execution_count": 32,
     "metadata": {},
     "output_type": "execute_result"
    }
   ],
   "source": [
    "data2.groupby('batter')[['batter','batsman_runs']].sum('batsman_runs').sort_values(by='batsman_runs',ascending=False).head(10)"
   ]
  },
  {
   "cell_type": "markdown",
   "metadata": {},
   "source": [
    "Most wickets in IPL"
   ]
  },
  {
   "cell_type": "code",
   "execution_count": 33,
   "metadata": {},
   "outputs": [
    {
     "data": {
      "text/html": [
       "<div>\n",
       "<style scoped>\n",
       "    .dataframe tbody tr th:only-of-type {\n",
       "        vertical-align: middle;\n",
       "    }\n",
       "\n",
       "    .dataframe tbody tr th {\n",
       "        vertical-align: top;\n",
       "    }\n",
       "\n",
       "    .dataframe thead th {\n",
       "        text-align: right;\n",
       "    }\n",
       "</style>\n",
       "<table border=\"1\" class=\"dataframe\">\n",
       "  <thead>\n",
       "    <tr style=\"text-align: right;\">\n",
       "      <th></th>\n",
       "      <th>is_wicket</th>\n",
       "    </tr>\n",
       "    <tr>\n",
       "      <th>bowler</th>\n",
       "      <th></th>\n",
       "    </tr>\n",
       "  </thead>\n",
       "  <tbody>\n",
       "    <tr>\n",
       "      <th>YS Chahal</th>\n",
       "      <td>213</td>\n",
       "    </tr>\n",
       "    <tr>\n",
       "      <th>DJ Bravo</th>\n",
       "      <td>207</td>\n",
       "    </tr>\n",
       "    <tr>\n",
       "      <th>PP Chawla</th>\n",
       "      <td>201</td>\n",
       "    </tr>\n",
       "    <tr>\n",
       "      <th>SP Narine</th>\n",
       "      <td>200</td>\n",
       "    </tr>\n",
       "    <tr>\n",
       "      <th>R Ashwin</th>\n",
       "      <td>198</td>\n",
       "    </tr>\n",
       "    <tr>\n",
       "      <th>B Kumar</th>\n",
       "      <td>195</td>\n",
       "    </tr>\n",
       "    <tr>\n",
       "      <th>SL Malinga</th>\n",
       "      <td>188</td>\n",
       "    </tr>\n",
       "    <tr>\n",
       "      <th>A Mishra</th>\n",
       "      <td>183</td>\n",
       "    </tr>\n",
       "    <tr>\n",
       "      <th>JJ Bumrah</th>\n",
       "      <td>182</td>\n",
       "    </tr>\n",
       "    <tr>\n",
       "      <th>RA Jadeja</th>\n",
       "      <td>169</td>\n",
       "    </tr>\n",
       "  </tbody>\n",
       "</table>\n",
       "</div>"
      ],
      "text/plain": [
       "            is_wicket\n",
       "bowler               \n",
       "YS Chahal         213\n",
       "DJ Bravo          207\n",
       "PP Chawla         201\n",
       "SP Narine         200\n",
       "R Ashwin          198\n",
       "B Kumar           195\n",
       "SL Malinga        188\n",
       "A Mishra          183\n",
       "JJ Bumrah         182\n",
       "RA Jadeja         169"
      ]
     },
     "execution_count": 33,
     "metadata": {},
     "output_type": "execute_result"
    }
   ],
   "source": [
    "data2.groupby('bowler')[['bowler','is_wicket']].sum('is_wicket').sort_values(by='is_wicket',ascending=False).head(10)"
   ]
  },
  {
   "cell_type": "markdown",
   "metadata": {},
   "source": [
    "Most Sixes in IPL"
   ]
  },
  {
   "cell_type": "code",
   "execution_count": 34,
   "metadata": {},
   "outputs": [
    {
     "data": {
      "text/plain": [
       "batter\n",
       "CH Gayle          359\n",
       "RG Sharma         281\n",
       "V Kohli           273\n",
       "AB de Villiers    253\n",
       "MS Dhoni          252\n",
       "DA Warner         236\n",
       "KA Pollard        224\n",
       "AD Russell        209\n",
       "SV Samson         206\n",
       "SK Raina          204\n",
       "Name: batsman_runs, dtype: int64"
      ]
     },
     "execution_count": 34,
     "metadata": {},
     "output_type": "execute_result"
    }
   ],
   "source": [
    "data2[data2['batsman_runs']==6].groupby('batter')['batsman_runs'].count().sort_values(ascending=False).head(10)"
   ]
  },
  {
   "cell_type": "markdown",
   "metadata": {},
   "source": [
    "Most Centuries in IPL"
   ]
  },
  {
   "cell_type": "code",
   "execution_count": 35,
   "metadata": {},
   "outputs": [
    {
     "data": {
      "text/html": [
       "<div>\n",
       "<style scoped>\n",
       "    .dataframe tbody tr th:only-of-type {\n",
       "        vertical-align: middle;\n",
       "    }\n",
       "\n",
       "    .dataframe tbody tr th {\n",
       "        vertical-align: top;\n",
       "    }\n",
       "\n",
       "    .dataframe thead th {\n",
       "        text-align: right;\n",
       "    }\n",
       "</style>\n",
       "<table border=\"1\" class=\"dataframe\">\n",
       "  <thead>\n",
       "    <tr style=\"text-align: right;\">\n",
       "      <th></th>\n",
       "      <th>Centuries</th>\n",
       "    </tr>\n",
       "    <tr>\n",
       "      <th>batter</th>\n",
       "      <th></th>\n",
       "    </tr>\n",
       "  </thead>\n",
       "  <tbody>\n",
       "    <tr>\n",
       "      <th>V Kohli</th>\n",
       "      <td>8</td>\n",
       "    </tr>\n",
       "    <tr>\n",
       "      <th>JC Buttler</th>\n",
       "      <td>7</td>\n",
       "    </tr>\n",
       "    <tr>\n",
       "      <th>CH Gayle</th>\n",
       "      <td>6</td>\n",
       "    </tr>\n",
       "    <tr>\n",
       "      <th>DA Warner</th>\n",
       "      <td>4</td>\n",
       "    </tr>\n",
       "    <tr>\n",
       "      <th>KL Rahul</th>\n",
       "      <td>4</td>\n",
       "    </tr>\n",
       "  </tbody>\n",
       "</table>\n",
       "</div>"
      ],
      "text/plain": [
       "            Centuries\n",
       "batter               \n",
       "V Kohli             8\n",
       "JC Buttler          7\n",
       "CH Gayle            6\n",
       "DA Warner           4\n",
       "KL Rahul            4"
      ]
     },
     "execution_count": 35,
     "metadata": {},
     "output_type": "execute_result"
    }
   ],
   "source": [
    "Runs_permatch=data2.groupby(['match_id','batter'])['batsman_runs'].sum('batsman_runs').reset_index()\n",
    "Centuries=Runs_permatch[Runs_permatch['batsman_runs']>=100].groupby('batter').count().reset_index()\n",
    "Most_Centuries=Centuries[['batter','batsman_runs']].sort_values(by='batsman_runs',ascending=False).head()\n",
    "Most_Centuries.rename(columns={\"batsman_runs\":\"Centuries\"}).set_index('batter')"
   ]
  },
  {
   "cell_type": "markdown",
   "metadata": {},
   "source": [
    "Most Fifers in IPL"
   ]
  },
  {
   "cell_type": "code",
   "execution_count": 36,
   "metadata": {},
   "outputs": [
    {
     "data": {
      "text/plain": [
       "bowler\n",
       "JJ Bumrah      3\n",
       "JP Faulkner    3\n",
       "SP Narine      3\n",
       "AJ Tye         2\n",
       "SL Malinga     2\n",
       "Name: count, dtype: int64"
      ]
     },
     "execution_count": 36,
     "metadata": {},
     "output_type": "execute_result"
    }
   ],
   "source": [
    "wickets_permatch=data2.groupby(['match_id','bowler'])['is_wicket'].sum('is_wicket').reset_index()\n",
    "fifers=wickets_permatch[wickets_permatch['is_wicket']>=5]\n",
    "fifers.value_counts('bowler').head()"
   ]
  },
  {
   "cell_type": "code",
   "execution_count": 37,
   "metadata": {},
   "outputs": [
    {
     "data": {
      "text/html": [
       "<div>\n",
       "<style scoped>\n",
       "    .dataframe tbody tr th:only-of-type {\n",
       "        vertical-align: middle;\n",
       "    }\n",
       "\n",
       "    .dataframe tbody tr th {\n",
       "        vertical-align: top;\n",
       "    }\n",
       "\n",
       "    .dataframe thead th {\n",
       "        text-align: right;\n",
       "    }\n",
       "</style>\n",
       "<table border=\"1\" class=\"dataframe\">\n",
       "  <thead>\n",
       "    <tr style=\"text-align: right;\">\n",
       "      <th></th>\n",
       "      <th>id</th>\n",
       "      <th>season</th>\n",
       "      <th>city</th>\n",
       "      <th>date</th>\n",
       "      <th>match_type</th>\n",
       "      <th>player_of_match</th>\n",
       "      <th>venue</th>\n",
       "      <th>team1</th>\n",
       "      <th>team2</th>\n",
       "      <th>toss_winner</th>\n",
       "      <th>toss_decision</th>\n",
       "      <th>winner</th>\n",
       "      <th>result</th>\n",
       "      <th>result_margin</th>\n",
       "      <th>target_runs</th>\n",
       "      <th>target_overs</th>\n",
       "      <th>super_over</th>\n",
       "      <th>method</th>\n",
       "      <th>umpire1</th>\n",
       "      <th>umpire2</th>\n",
       "    </tr>\n",
       "  </thead>\n",
       "  <tbody>\n",
       "    <tr>\n",
       "      <th>791</th>\n",
       "      <td>1216517</td>\n",
       "      <td>2020/21</td>\n",
       "      <td>NaN</td>\n",
       "      <td>2020-10-18</td>\n",
       "      <td>League</td>\n",
       "      <td>KL Rahul</td>\n",
       "      <td>Dubai International Cricket Stadium</td>\n",
       "      <td>Mumbai Indians</td>\n",
       "      <td>Kings XI Punjab</td>\n",
       "      <td>Mumbai Indians</td>\n",
       "      <td>bat</td>\n",
       "      <td>Kings XI Punjab</td>\n",
       "      <td>tie</td>\n",
       "      <td>NaN</td>\n",
       "      <td>177.0</td>\n",
       "      <td>20.0</td>\n",
       "      <td>Y</td>\n",
       "      <td>NaN</td>\n",
       "      <td>Nitin Menon</td>\n",
       "      <td>PR Reiffel</td>\n",
       "    </tr>\n",
       "    <tr>\n",
       "      <th>931</th>\n",
       "      <td>1304102</td>\n",
       "      <td>2022</td>\n",
       "      <td>Navi Mumbai</td>\n",
       "      <td>2022-05-09</td>\n",
       "      <td>League</td>\n",
       "      <td>JJ Bumrah</td>\n",
       "      <td>Dr DY Patil Sports Academy, Mumbai</td>\n",
       "      <td>Kolkata Knight Riders</td>\n",
       "      <td>Mumbai Indians</td>\n",
       "      <td>Mumbai Indians</td>\n",
       "      <td>field</td>\n",
       "      <td>Kolkata Knight Riders</td>\n",
       "      <td>runs</td>\n",
       "      <td>52.0</td>\n",
       "      <td>166.0</td>\n",
       "      <td>20.0</td>\n",
       "      <td>N</td>\n",
       "      <td>NaN</td>\n",
       "      <td>CB Gaffaney</td>\n",
       "      <td>GR Sadashiv Iyer</td>\n",
       "    </tr>\n",
       "    <tr>\n",
       "      <th>1048</th>\n",
       "      <td>1426263</td>\n",
       "      <td>2024</td>\n",
       "      <td>Mumbai</td>\n",
       "      <td>2024-04-11</td>\n",
       "      <td>League</td>\n",
       "      <td>JJ Bumrah</td>\n",
       "      <td>Wankhede Stadium, Mumbai</td>\n",
       "      <td>Royal Challengers Bengaluru</td>\n",
       "      <td>Mumbai Indians</td>\n",
       "      <td>Mumbai Indians</td>\n",
       "      <td>field</td>\n",
       "      <td>Mumbai Indians</td>\n",
       "      <td>wickets</td>\n",
       "      <td>7.0</td>\n",
       "      <td>197.0</td>\n",
       "      <td>20.0</td>\n",
       "      <td>N</td>\n",
       "      <td>NaN</td>\n",
       "      <td>Nitin Menon</td>\n",
       "      <td>VA Kulkarni</td>\n",
       "    </tr>\n",
       "  </tbody>\n",
       "</table>\n",
       "</div>"
      ],
      "text/plain": [
       "           id   season         city        date match_type player_of_match  \\\n",
       "791   1216517  2020/21          NaN  2020-10-18     League        KL Rahul   \n",
       "931   1304102     2022  Navi Mumbai  2022-05-09     League       JJ Bumrah   \n",
       "1048  1426263     2024       Mumbai  2024-04-11     League       JJ Bumrah   \n",
       "\n",
       "                                    venue                        team1  \\\n",
       "791   Dubai International Cricket Stadium               Mumbai Indians   \n",
       "931    Dr DY Patil Sports Academy, Mumbai        Kolkata Knight Riders   \n",
       "1048             Wankhede Stadium, Mumbai  Royal Challengers Bengaluru   \n",
       "\n",
       "                team2     toss_winner toss_decision                 winner  \\\n",
       "791   Kings XI Punjab  Mumbai Indians           bat        Kings XI Punjab   \n",
       "931    Mumbai Indians  Mumbai Indians         field  Kolkata Knight Riders   \n",
       "1048   Mumbai Indians  Mumbai Indians         field         Mumbai Indians   \n",
       "\n",
       "       result  result_margin  target_runs  target_overs super_over method  \\\n",
       "791       tie            NaN        177.0          20.0          Y    NaN   \n",
       "931      runs           52.0        166.0          20.0          N    NaN   \n",
       "1048  wickets            7.0        197.0          20.0          N    NaN   \n",
       "\n",
       "          umpire1           umpire2  \n",
       "791   Nitin Menon        PR Reiffel  \n",
       "931   CB Gaffaney  GR Sadashiv Iyer  \n",
       "1048  Nitin Menon       VA Kulkarni  "
      ]
     },
     "execution_count": 37,
     "metadata": {},
     "output_type": "execute_result"
    }
   ],
   "source": [
    "# checking Bumrah's Fifers \n",
    "wickets_permatch=data2.groupby(['match_id','bowler']).sum('is_wicket').reset_index()\n",
    "matchid=wickets_permatch[(wickets_permatch['bowler']=='JJ Bumrah')&(wickets_permatch['is_wicket']>=5)]['match_id'].reset_index()\n",
    "data[data['id'].isin(matchid['match_id'])]"
   ]
  },
  {
   "cell_type": "markdown",
   "metadata": {},
   "source": [
    "Joining two Datasets"
   ]
  },
  {
   "cell_type": "code",
   "execution_count": 38,
   "metadata": {},
   "outputs": [
    {
     "data": {
      "text/plain": [
       "Index(['id', 'season', 'city', 'date', 'match_type', 'player_of_match',\n",
       "       'venue', 'team1', 'team2', 'toss_winner', 'toss_decision', 'winner',\n",
       "       'result', 'result_margin', 'target_runs', 'target_overs', 'super_over',\n",
       "       'method', 'umpire1', 'umpire2', 'match_id', 'inning', 'batting_team',\n",
       "       'bowling_team', 'over', 'ball', 'batter', 'bowler', 'non_striker',\n",
       "       'batsman_runs', 'extra_runs', 'total_runs', 'extras_type', 'is_wicket',\n",
       "       'player_dismissed', 'dismissal_kind', 'fielder'],\n",
       "      dtype='object')"
      ]
     },
     "execution_count": 38,
     "metadata": {},
     "output_type": "execute_result"
    }
   ],
   "source": [
    "#Joining Matches and Deliveries data sets and name it is Data3\n",
    "data3=data.merge(data2,how='inner',left_on='id',right_on='match_id')\n",
    "data3.columns"
   ]
  },
  {
   "cell_type": "markdown",
   "metadata": {},
   "source": [
    "Most Individual runs in a season "
   ]
  },
  {
   "cell_type": "code",
   "execution_count": 39,
   "metadata": {},
   "outputs": [
    {
     "data": {
      "text/html": [
       "<div>\n",
       "<style scoped>\n",
       "    .dataframe tbody tr th:only-of-type {\n",
       "        vertical-align: middle;\n",
       "    }\n",
       "\n",
       "    .dataframe tbody tr th {\n",
       "        vertical-align: top;\n",
       "    }\n",
       "\n",
       "    .dataframe thead th {\n",
       "        text-align: right;\n",
       "    }\n",
       "</style>\n",
       "<table border=\"1\" class=\"dataframe\">\n",
       "  <thead>\n",
       "    <tr style=\"text-align: right;\">\n",
       "      <th></th>\n",
       "      <th></th>\n",
       "      <th>batsman_runs</th>\n",
       "    </tr>\n",
       "    <tr>\n",
       "      <th>season</th>\n",
       "      <th>batter</th>\n",
       "      <th></th>\n",
       "    </tr>\n",
       "  </thead>\n",
       "  <tbody>\n",
       "    <tr>\n",
       "      <th>2016</th>\n",
       "      <th>V Kohli</th>\n",
       "      <td>973</td>\n",
       "    </tr>\n",
       "    <tr>\n",
       "      <th>2023</th>\n",
       "      <th>Shubman Gill</th>\n",
       "      <td>890</td>\n",
       "    </tr>\n",
       "    <tr>\n",
       "      <th>2022</th>\n",
       "      <th>JC Buttler</th>\n",
       "      <td>863</td>\n",
       "    </tr>\n",
       "    <tr>\n",
       "      <th>2016</th>\n",
       "      <th>DA Warner</th>\n",
       "      <td>848</td>\n",
       "    </tr>\n",
       "    <tr>\n",
       "      <th>2024</th>\n",
       "      <th>V Kohli</th>\n",
       "      <td>741</td>\n",
       "    </tr>\n",
       "    <tr>\n",
       "      <th>2018</th>\n",
       "      <th>KS Williamson</th>\n",
       "      <td>735</td>\n",
       "    </tr>\n",
       "    <tr>\n",
       "      <th>2012</th>\n",
       "      <th>CH Gayle</th>\n",
       "      <td>733</td>\n",
       "    </tr>\n",
       "    <tr>\n",
       "      <th>2013</th>\n",
       "      <th>MEK Hussey</th>\n",
       "      <td>733</td>\n",
       "    </tr>\n",
       "    <tr>\n",
       "      <th>2023</th>\n",
       "      <th>F du Plessis</th>\n",
       "      <td>730</td>\n",
       "    </tr>\n",
       "    <tr>\n",
       "      <th>2013</th>\n",
       "      <th>CH Gayle</th>\n",
       "      <td>720</td>\n",
       "    </tr>\n",
       "  </tbody>\n",
       "</table>\n",
       "</div>"
      ],
      "text/plain": [
       "                      batsman_runs\n",
       "season batter                     \n",
       "2016   V Kohli                 973\n",
       "2023   Shubman Gill            890\n",
       "2022   JC Buttler              863\n",
       "2016   DA Warner               848\n",
       "2024   V Kohli                 741\n",
       "2018   KS Williamson           735\n",
       "2012   CH Gayle                733\n",
       "2013   MEK Hussey              733\n",
       "2023   F du Plessis            730\n",
       "2013   CH Gayle                720"
      ]
     },
     "execution_count": 39,
     "metadata": {},
     "output_type": "execute_result"
    }
   ],
   "source": [
    "data3.groupby(['season','batter'])[['season','batter','batsman_runs']].sum('batsman_runs').sort_values(by='batsman_runs',ascending=False).head(10)"
   ]
  },
  {
   "cell_type": "code",
   "execution_count": 40,
   "metadata": {},
   "outputs": [
    {
     "data": {
      "text/html": [
       "<div>\n",
       "<style scoped>\n",
       "    .dataframe tbody tr th:only-of-type {\n",
       "        vertical-align: middle;\n",
       "    }\n",
       "\n",
       "    .dataframe tbody tr th {\n",
       "        vertical-align: top;\n",
       "    }\n",
       "\n",
       "    .dataframe thead th {\n",
       "        text-align: right;\n",
       "    }\n",
       "</style>\n",
       "<table border=\"1\" class=\"dataframe\">\n",
       "  <thead>\n",
       "    <tr style=\"text-align: right;\">\n",
       "      <th></th>\n",
       "      <th></th>\n",
       "      <th>batsman_runs</th>\n",
       "    </tr>\n",
       "    <tr>\n",
       "      <th>season</th>\n",
       "      <th>batting_team</th>\n",
       "      <th></th>\n",
       "    </tr>\n",
       "  </thead>\n",
       "  <tbody>\n",
       "    <tr>\n",
       "      <th>2024</th>\n",
       "      <th>Sunrisers Hyderabad</th>\n",
       "      <td>2906</td>\n",
       "    </tr>\n",
       "    <tr>\n",
       "      <th>2023</th>\n",
       "      <th>Gujarat Titans</th>\n",
       "      <td>2906</td>\n",
       "    </tr>\n",
       "    <tr>\n",
       "      <th>2016</th>\n",
       "      <th>Royal Challengers Bangalore</th>\n",
       "      <td>2863</td>\n",
       "    </tr>\n",
       "    <tr>\n",
       "      <th>2013</th>\n",
       "      <th>Mumbai Indians</th>\n",
       "      <td>2845</td>\n",
       "    </tr>\n",
       "    <tr>\n",
       "      <th>2014</th>\n",
       "      <th>Kings XI Punjab</th>\n",
       "      <td>2824</td>\n",
       "    </tr>\n",
       "    <tr>\n",
       "      <th>2023</th>\n",
       "      <th>Mumbai Indians</th>\n",
       "      <td>2821</td>\n",
       "    </tr>\n",
       "    <tr>\n",
       "      <th>2022</th>\n",
       "      <th>Rajasthan Royals</th>\n",
       "      <td>2807</td>\n",
       "    </tr>\n",
       "    <tr>\n",
       "      <th>2024</th>\n",
       "      <th>Royal Challengers Bengaluru</th>\n",
       "      <td>2789</td>\n",
       "    </tr>\n",
       "    <tr>\n",
       "      <th>2012</th>\n",
       "      <th>Chennai Super Kings</th>\n",
       "      <td>2717</td>\n",
       "    </tr>\n",
       "    <tr>\n",
       "      <th>2018</th>\n",
       "      <th>Chennai Super Kings</th>\n",
       "      <td>2698</td>\n",
       "    </tr>\n",
       "  </tbody>\n",
       "</table>\n",
       "</div>"
      ],
      "text/plain": [
       "                                    batsman_runs\n",
       "season batting_team                             \n",
       "2024   Sunrisers Hyderabad                  2906\n",
       "2023   Gujarat Titans                       2906\n",
       "2016   Royal Challengers Bangalore          2863\n",
       "2013   Mumbai Indians                       2845\n",
       "2014   Kings XI Punjab                      2824\n",
       "2023   Mumbai Indians                       2821\n",
       "2022   Rajasthan Royals                     2807\n",
       "2024   Royal Challengers Bengaluru          2789\n",
       "2012   Chennai Super Kings                  2717\n",
       "2018   Chennai Super Kings                  2698"
      ]
     },
     "execution_count": 40,
     "metadata": {},
     "output_type": "execute_result"
    }
   ],
   "source": [
    "data3.groupby(['season','batting_team'])[['season','batting_team','batsman_runs']].sum('batsman_runs').sort_values(by='batsman_runs',ascending=False).head(10)"
   ]
  },
  {
   "cell_type": "code",
   "execution_count": 41,
   "metadata": {},
   "outputs": [
    {
     "data": {
      "text/plain": [
       "<pandas.core.groupby.generic.DataFrameGroupBy object at 0x000002605E7E2820>"
      ]
     },
     "execution_count": 41,
     "metadata": {},
     "output_type": "execute_result"
    }
   ],
   "source": [
    "data3.groupby(['season','batting_team'])"
   ]
  },
  {
   "cell_type": "code",
   "execution_count": null,
   "metadata": {},
   "outputs": [],
   "source": []
  }
 ],
 "metadata": {
  "kernelspec": {
   "display_name": "myvenv",
   "language": "python",
   "name": "python3"
  },
  "language_info": {
   "codemirror_mode": {
    "name": "ipython",
    "version": 3
   },
   "file_extension": ".py",
   "mimetype": "text/x-python",
   "name": "python",
   "nbconvert_exporter": "python",
   "pygments_lexer": "ipython3",
   "version": "3.13.1"
  }
 },
 "nbformat": 4,
 "nbformat_minor": 2
}
